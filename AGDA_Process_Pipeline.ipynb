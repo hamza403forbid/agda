{
 "cells": [
  {
   "cell_type": "code",
   "execution_count": 3,
   "metadata": {
    "collapsed": true
   },
   "outputs": [],
   "source": [
    "import requests\n",
    "from PIL import Image\n",
    "from colorthief import ColorThief"
   ]
  },
  {
   "cell_type": "code",
   "execution_count": 4,
   "metadata": {
    "collapsed": true
   },
   "outputs": [],
   "source": [
    "#Loading Image URL from API\n",
    "r = requests.get('https://agda-fyp.herokuapp.com/load')\n",
    "data = r.json()"
   ]
  },
  {
   "cell_type": "code",
   "execution_count": 2,
   "metadata": {
    "collapsed": true
   },
   "outputs": [],
   "source": [
    "\n",
    "\n",
    "#Data seperation\n",
    "imgs = []\n",
    "syms = []\n",
    "vis =[]\n",
    "kwd = []\n",
    "colors = []\n",
    "it = 0\n",
    "for i in data[:20]:\n",
    "    #Loading Images\n",
    "    r = requests.get(i['url'],stream=True).raw\n",
    "    img = Image.open(r).convert('RGBA').resize((150,150))\n",
    "    imgs.append(img)\n",
    "    f= 'temp/img'+str(it)+'.jpg';\n",
    "    img.save(f);\n",
    "    color_thief = ColorThief(f)\n",
    "    colors.append(color_thief.get_palette(color_count=3))\n",
    "    it= it+1\n",
    "    #Labels \n",
    "    syms.append([i['align'],i['symmetry'],i['balance']])\n",
    "    vis.append([i['color_r'],i['font_r']])\n",
    "    kd = i['keyword'].split(';')\n",
    "    kwd.append(kd)\n",
    "\n"
   ]
  },
  {
   "cell_type": "code",
   "execution_count": 3,
   "metadata": {},
   "outputs": [
    {
     "data": {
      "text/plain": [
       "1295"
      ]
     },
     "execution_count": 3,
     "metadata": {},
     "output_type": "execute_result"
    }
   ],
   "source": [
    "colordic = {}\n",
    "for i in range(len(colors)):\n",
    "    for c in colors[i]:\n",
    "        for k in kwd[i]:\n",
    "            key = str(c)\n",
    "            if not (key in colordic and colordic[key]['keyword']==k):\n",
    "                colordic.update({key:{'keyword':k, 'cr':vis[i][0]}})\n",
    "            else:\n",
    "                icr = (colordic[key]['cr']+vis[i][0])/2\n",
    "                colordic.update({key:{'keyword':k, 'cr':icr}})\n",
    "# print(strcolordic)\n",
    "f = open('temp/colortable', 'w')\n",
    "f.write(str(colordic))\n",
    "f = open('temp/syms', 'w')\n",
    "f.write(str(syms))\n",
    "f = open('temp/vis', 'w')\n",
    "f.write(str(vis))\n",
    "f = open('temp/kwd', 'w')\n",
    "f.write(str(kwd))\n",
    "f = open('temp/colors', 'w')\n",
    "f.write(str(colors))\n",
    "\n",
    "\n"
   ]
  },
  {
   "cell_type": "code",
   "execution_count": 6,
   "metadata": {},
   "outputs": [],
   "source": [
    "tkwd=[]\n",
    "it=0\n",
    "tsyms=[]\n",
    "tvis=[]\n",
    "imgs=[]\n",
    "for i in data[20:25]:\n",
    "    #Loading Images\n",
    "    r = requests.get(i['url'],stream=True).raw\n",
    "    img = Image.open(r).convert('RGBA').resize((150,150))\n",
    "    imgs.append(img)\n",
    "    f= 'test/img'+str(it)+'.jpg';\n",
    "    img.save(f);\n",
    "    it= it+1\n",
    "    tsyms.append([i['align'],i['symmetry'],i['balance']])\n",
    "    tvis.append([i['color_r'],i['font_r']])\n",
    "    kd = i['keyword'].split(';')\n",
    "    tkwd.append(kd)\n"
   ]
  },
  {
   "cell_type": "code",
   "execution_count": 8,
   "metadata": {},
   "outputs": [
    {
     "data": {
      "text/plain": [
       "70"
      ]
     },
     "execution_count": 8,
     "metadata": {},
     "output_type": "execute_result"
    }
   ],
   "source": [
    "# f = open('test/tkwd', 'w')\n",
    "# f.write(str(tkwd))\n",
    "f = open('test/tsyms', 'w')\n",
    "f.write(str(tsyms))\n",
    "# fo = open('test/tvis', 'w')\n",
    "# fo.write(str(tvis))\n"
   ]
  },
  {
   "cell_type": "code",
   "execution_count": null,
   "metadata": {
    "collapsed": true
   },
   "outputs": [],
   "source": []
  }
 ],
 "metadata": {
  "kernelspec": {
   "display_name": "Python 3",
   "language": "python",
   "name": "python3"
  },
  "language_info": {
   "codemirror_mode": {
    "name": "ipython",
    "version": 3
   },
   "file_extension": ".py",
   "mimetype": "text/x-python",
   "name": "python",
   "nbconvert_exporter": "python",
   "pygments_lexer": "ipython3",
   "version": "3.6.1"
  }
 },
 "nbformat": 4,
 "nbformat_minor": 2
}
