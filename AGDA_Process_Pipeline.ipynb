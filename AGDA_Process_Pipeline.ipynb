{
 "cells": [
  {
   "cell_type": "code",
   "execution_count": 13,
   "metadata": {},
   "outputs": [],
   "source": [
    "import requests\n",
    "from PIL import Image\n",
    "from colorthief import ColorThief\n",
    "#Loading Image URL from API\n",
    "r = requests.get('https://agda-fyp.herokuapp.com/load')\n",
    "data = r.json()\n",
    "#Data seperation\n",
    "imgs = []\n",
    "syms = []\n",
    "vis =[]\n",
    "kwd = []\n",
    "colors = []\n",
    "\n"
   ]
  },
  {
   "cell_type": "code",
   "execution_count": 19,
   "metadata": {},
   "outputs": [
    {
     "name": "stdout",
     "output_type": "stream",
     "text": [
      "Not Loaded\n",
      "Not Loaded\n",
      "Not Loaded\n",
      "Not Loaded\n",
      "Not Loaded\n",
      "Not Loaded\n",
      "Not Loaded\n",
      "Not Loaded\n",
      "Not Loaded\n",
      "Not Loaded\n",
      "Not Loaded\n",
      "Not Loaded\n",
      "HTTPSConnectionPool(host='about.canva.com', port=443): Max retries exceeded with url: /wp-content/uploads/sites/3/2015/01/vintage_poster.png (Caused by NewConnectionError('<requests.packages.urllib3.connection.VerifiedHTTPSConnection object at 0x00000097E4FB4780>: Failed to establish a new connection: [Errno 11002] getaddrinfo failed',))\n",
      "HTTPSConnectionPool(host='about.canva.com', port=443): Max retries exceeded with url: /wp-content/uploads/sites/3/2015/01/vintage_poster.png (Caused by NewConnectionError('<requests.packages.urllib3.connection.VerifiedHTTPSConnection object at 0x00000097E4FB4278>: Failed to establish a new connection: [Errno 11002] getaddrinfo failed',))\n",
      "Not Loaded\n",
      "Not Loaded\n",
      "Not Loaded\n",
      "Not Loaded\n",
      "Not Loaded\n",
      "Not Loaded\n",
      "Not Loaded\n"
     ]
    }
   ],
   "source": [
    "for i in range(250):\n",
    "    #Loading Images\n",
    "    try:\n",
    "        r = requests.get(data[i]['url'],stream=True).raw\n",
    "        try:\n",
    "            img = Image.open(r).convert('RGBA').resize((50,50))\n",
    "            imgs.append(img)\n",
    "            f= 'temp/img'+str(i)+'.jpg';\n",
    "            img.save(f);\n",
    "            color_thief = ColorThief(f)\n",
    "            colors.append((i,color_thief.get_palette(color_count=3)))\n",
    "\n",
    "            #Labels \n",
    "            syms.append((i,[data[i]['align'],data[i]['symmetry'],data[i]['balance']]))\n",
    "            vis.append((i,[data[i]['color_r'],data[i]['font_r']]))\n",
    "            kd =(i,data[i]['keyword'].split(';'))\n",
    "            kwd.append(kd)\n",
    "        except IOError:\n",
    "            print('Not Loaded')\n",
    "    except requests.exceptions.RequestException as e:\n",
    "        print(e)"
   ]
  },
  {
   "cell_type": "code",
   "execution_count": 20,
   "metadata": {},
   "outputs": [
    {
     "data": {
      "text/plain": [
       "21026"
      ]
     },
     "execution_count": 20,
     "metadata": {},
     "output_type": "execute_result"
    }
   ],
   "source": [
    "colordic = {}\n",
    "for i in range(len(colors)):\n",
    "    for c in colors[i]:\n",
    "        for k in kwd[i]:\n",
    "            key = str(c)\n",
    "            if not (key in colordic and colordic[key]['keyword']==k):\n",
    "                colordic.update({key:{'keyword':k, 'cr':vis[i][0]}})\n",
    "            else:\n",
    "                icr = (colordic[key]['cr']+vis[i][0])/2\n",
    "                colordic.update({key:{'keyword':k, 'cr':icr}})\n",
    "# print(strcolordic)\n",
    "f = open('temp/colortable', 'w')\n",
    "f.write(str(colordic))\n",
    "f = open('temp/syms', 'w')\n",
    "f.write(str(syms))\n",
    "f = open('temp/vis', 'w')\n",
    "f.write(str(vis))\n",
    "f = open('temp/kwd', 'w')\n",
    "f.write(str(kwd))\n",
    "f = open('temp/colors', 'w')\n",
    "f.write(str(colors))\n",
    "\n",
    "\n"
   ]
  },
  {
   "cell_type": "code",
   "execution_count": 26,
   "metadata": {},
   "outputs": [
    {
     "name": "stdout",
     "output_type": "stream",
     "text": [
      "Not Loaded\n",
      "Not Loaded\n",
      "Not Loaded\n",
      "Not Loaded\n",
      "Not Loaded\n"
     ]
    }
   ],
   "source": [
    "tkwd=[]\n",
    "tsyms=[]\n",
    "tvis=[]\n",
    "for i in range(250,len(data)):\n",
    "    try:\n",
    "        r = requests.get(data[i]['url'],stream=True).raw\n",
    "        try:\n",
    "            img = Image.open(r).convert('RGBA').resize((50,50))\n",
    "            imgs.append(img)\n",
    "            f= 'test/img'+str(i)+'.jpg';\n",
    "            img.save(f);\n",
    "            tsyms.append((i,[data[i]['align'],data[i]['symmetry'],data[i]['balance']]))\n",
    "            tvis.append((i,[data[i]['color_r'],data[i]['font_r']]))\n",
    "            kd =(i,data[i]['keyword'].split(';'))\n",
    "            tkwd.append(kd)\n",
    "        except IOError:\n",
    "            print('Not Loaded')\n",
    "    except requests.exceptions.RequestException as e:\n",
    "        print(e)\n"
   ]
  },
  {
   "cell_type": "code",
   "execution_count": 27,
   "metadata": {},
   "outputs": [
    {
     "data": {
      "text/plain": [
       "1389"
      ]
     },
     "execution_count": 27,
     "metadata": {},
     "output_type": "execute_result"
    }
   ],
   "source": [
    "f = open('test/tkwd', 'w')\n",
    "f.write(str(tkwd))"
   ]
  },
  {
   "cell_type": "code",
   "execution_count": 30,
   "metadata": {},
   "outputs": [
    {
     "data": {
      "text/plain": [
       "1596"
      ]
     },
     "execution_count": 30,
     "metadata": {},
     "output_type": "execute_result"
    }
   ],
   "source": [
    "f = open('test/tsyms', 'w')\n",
    "f.write(str(tsyms))"
   ]
  },
  {
   "cell_type": "code",
   "execution_count": 31,
   "metadata": {},
   "outputs": [
    {
     "data": {
      "text/plain": [
       "1292"
      ]
     },
     "execution_count": 31,
     "metadata": {},
     "output_type": "execute_result"
    }
   ],
   "source": [
    "fo = open('test/tvis', 'w')\n",
    "fo.write(str(tvis))"
   ]
  },
  {
   "cell_type": "code",
   "execution_count": null,
   "metadata": {
    "collapsed": true
   },
   "outputs": [],
   "source": []
  }
 ],
 "metadata": {
  "kernelspec": {
   "display_name": "Python 3",
   "language": "python",
   "name": "python3"
  },
  "language_info": {
   "codemirror_mode": {
    "name": "ipython",
    "version": 3
   },
   "file_extension": ".py",
   "mimetype": "text/x-python",
   "name": "python",
   "nbconvert_exporter": "python",
   "pygments_lexer": "ipython3",
   "version": "3.6.1"
  }
 },
 "nbformat": 4,
 "nbformat_minor": 2
}
