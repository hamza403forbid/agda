{
 "cells": [
  {
   "cell_type": "code",
   "execution_count": 8,
   "metadata": {},
   "outputs": [],
   "source": [
    "f = open('temp/colortable','r')\n",
    "ct = eval(f.read())\n",
    "colors=[]\n",
    "for key,val in ct.items():\n",
    "    colors.append(list(eval(key)))\n",
    "\n",
    "import numpy as np"
   ]
  },
  {
   "cell_type": "code",
   "execution_count": 39,
   "metadata": {},
   "outputs": [],
   "source": [
    "X = np.array(colors)\n",
    "A = np.array([255, 36, 70])\n",
    "K = '4'\n",
    "distance = 1000000000     # better would be : +infinity\n",
    "closest = None\n",
    "closest = sorted(X, key=lambda p: sum((p - A)**2))\n",
    "accr_width=5\n",
    "closest = closest[:accr_width]\n"
   ]
  },
  {
   "cell_type": "code",
   "execution_count": 40,
   "metadata": {},
   "outputs": [
    {
     "name": "stdout",
     "output_type": "stream",
     "text": [
      "82.0\n"
     ]
    }
   ],
   "source": [
    "c = str(tuple(A))\n",
    "cr=0\n",
    "if c in ct and ct[c]['keyword']==K:\n",
    "    cr=ct[c]['cr']\n",
    "else:\n",
    "    i=0\n",
    "    while i<accr_width:\n",
    "        c=str(tuple(closest[i]))\n",
    "        cr+=ct[c]['cr']\n",
    "        i= i+1\n",
    "cr= cr/accr_width\n",
    "print(cr)"
   ]
  },
  {
   "cell_type": "code",
   "execution_count": null,
   "metadata": {
    "collapsed": true
   },
   "outputs": [],
   "source": []
  }
 ],
 "metadata": {
  "kernelspec": {
   "display_name": "Python 3",
   "language": "python",
   "name": "python3"
  },
  "language_info": {
   "codemirror_mode": {
    "name": "ipython",
    "version": 3
   },
   "file_extension": ".py",
   "mimetype": "text/x-python",
   "name": "python",
   "nbconvert_exporter": "python",
   "pygments_lexer": "ipython3",
   "version": "3.6.1"
  }
 },
 "nbformat": 4,
 "nbformat_minor": 2
}
