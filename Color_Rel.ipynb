{
 "cells": [
  {
   "cell_type": "code",
   "execution_count": 1,
   "metadata": {
    "collapsed": true
   },
   "outputs": [],
   "source": [
    "import numpy as np\n",
    "def get_CR(A,K):    \n",
    "    f = open('temp/colortable','r')\n",
    "    ct = eval(f.read())\n",
    "    colors=[]\n",
    "    for key,val in ct.items():\n",
    "        colors.append(list(eval(key)))\n",
    "    X = np.array(colors)\n",
    "    distance = 1000000000     # better would be : +infinity\n",
    "    closest = None\n",
    "    closest = sorted(X, key=lambda p: sum((p - A)**2))\n",
    "    accr_width=5\n",
    "    closest = closest[:accr_width]\n",
    "    c = str(tuple(A))\n",
    "    cr=0\n",
    "    if c in ct and ct[c]['keyword']==K:\n",
    "        cr=ct[c]['cr']\n",
    "    else:\n",
    "        i=0\n",
    "        while i<accr_width:\n",
    "            c=str(tuple(closest[i]))\n",
    "            cr+=ct[c]['cr']\n",
    "            i= i+1\n",
    "    cr= cr/accr_width\n",
    "    return cr"
   ]
  },
  {
   "cell_type": "code",
   "execution_count": 21,
   "metadata": {},
   "outputs": [],
   "source": [
    "from PIL import Image\n",
    "from colorthief import ColorThief\n",
    "fo = open('test/tkwd','r')\n",
    "tkwd = eval(fo.read())\n",
    "fo = open('test/tvis','r')\n",
    "tcr = eval(fo.read())\n",
    "tcol=[]\n",
    "for it in range(5):\n",
    "    f= 'test/img'+str(it)+'.jpg'\n",
    "    color_thief = ColorThief(f)\n",
    "    tcol.append(color_thief.get_palette(color_count=3))\n"
   ]
  },
  {
   "cell_type": "code",
   "execution_count": 40,
   "metadata": {},
   "outputs": [
    {
     "name": "stdout",
     "output_type": "stream",
     "text": [
      "93.962161583\n"
     ]
    }
   ],
   "source": [
    "accr = []\n",
    "for i in range(len(tcol)):\n",
    "    rel=[]\n",
    "    for c in tcol[i]:\n",
    "        for k in tkwd[i]:\n",
    "            rel.append(get_CR(np.array(list(c)),k))\n",
    "    rel = np.array(rel)\n",
    "    cr = rel.mean()\n",
    "    accr.append(100-((abs(cr-tcr[i][0])/tcr[i][0])*100))\n",
    "accr = np.array(accr)\n",
    "print(accr.mean())"
   ]
  },
  {
   "cell_type": "code",
   "execution_count": 19,
   "metadata": {},
   "outputs": [],
   "source": [
    "\n"
   ]
  },
  {
   "cell_type": "code",
   "execution_count": 20,
   "metadata": {},
   "outputs": [
    {
     "name": "stdout",
     "output_type": "stream",
     "text": [
      "96.8902439024\n"
     ]
    }
   ],
   "source": [
    "print(accr)\n"
   ]
  },
  {
   "cell_type": "code",
   "execution_count": 15,
   "metadata": {},
   "outputs": [
    {
     "name": "stdout",
     "output_type": "stream",
     "text": [
      "[82, 63]\n"
     ]
    }
   ],
   "source": []
  },
  {
   "cell_type": "code",
   "execution_count": null,
   "metadata": {
    "collapsed": true
   },
   "outputs": [],
   "source": []
  }
 ],
 "metadata": {
  "kernelspec": {
   "display_name": "Python 3",
   "language": "python",
   "name": "python3"
  },
  "language_info": {
   "codemirror_mode": {
    "name": "ipython",
    "version": 3
   },
   "file_extension": ".py",
   "mimetype": "text/x-python",
   "name": "python",
   "nbconvert_exporter": "python",
   "pygments_lexer": "ipython3",
   "version": "3.6.1"
  }
 },
 "nbformat": 4,
 "nbformat_minor": 2
}
