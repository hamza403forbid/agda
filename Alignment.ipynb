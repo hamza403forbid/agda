{
 "cells": [
  {
   "cell_type": "code",
   "execution_count": 19,
   "metadata": {},
   "outputs": [],
   "source": [
    "import numpy as np\n",
    "np.random.seed(123)\n",
    "from keras.models import Sequential\n",
    "from keras.layers import Dense, Dropout, Activation, Flatten\n",
    "from keras.layers import Conv2D, MaxPooling2D\n",
    "from keras.utils import np_utils\n",
    "\n",
    "\n"
   ]
  },
  {
   "cell_type": "code",
   "execution_count": 2,
   "metadata": {
    "collapsed": true
   },
   "outputs": [],
   "source": [
    "from PIL import Image\n",
    "X_train=[]\n",
    "fo = open('temp/syms','r')\n",
    "fodata = eval(fo.read())\n",
    "y_train=[]\n",
    "for it in range(20):\n",
    "    f = 'temp/img'+str(it)+'.jpg'\n",
    "    img = Image.open(f).convert('L')\n",
    "    if not fodata[it][0] is None:\n",
    "        y_train.append(fodata[it][0])\n",
    "        X_train.append(np.array(img))\n",
    "    \n",
    "X_test=[]\n",
    "fo = open('test/tsyms','r')\n",
    "fodata = eval(fo.read())\n",
    "y_test=[]\n",
    "for it in range(5):\n",
    "    f = 'test/img'+str(it)+'.jpg'\n",
    "    img = Image.open(f).convert('L')\n",
    "    if not fodata[it][0] is None:\n",
    "        y_test.append(fodata[it][0])\n",
    "        X_test.append(np.array(img))\n",
    "    \n",
    "\n",
    "    "
   ]
  },
  {
   "cell_type": "code",
   "execution_count": 24,
   "metadata": {
    "collapsed": true
   },
   "outputs": [],
   "source": [
    "X_train = np.array(X_train)\n",
    "y_train = np.array(y_train)\n",
    "X_test = np.array(X_test)\n",
    "y_test = np.array(y_test)\n",
    "\n",
    "X_train = X_train.reshape(X_train.shape[0], 50, 50,1)\n",
    "X_test = X_test.reshape(X_test.shape[0], 50, 50,1)\n",
    "X_train = X_train.astype('float32')\n",
    "X_test = X_test.astype('float32')\n",
    "X_train /= 255\n",
    "X_test /= 255\n"
   ]
  },
  {
   "cell_type": "code",
   "execution_count": 25,
   "metadata": {},
   "outputs": [
    {
     "name": "stdout",
     "output_type": "stream",
     "text": [
      "(20, 50, 50, 1)\n"
     ]
    }
   ],
   "source": [
    "print(X_train.shape)"
   ]
  },
  {
   "cell_type": "code",
   "execution_count": 34,
   "metadata": {},
   "outputs": [
    {
     "name": "stdout",
     "output_type": "stream",
     "text": [
      "Train on 20 samples, validate on 5 samples\n",
      "Epoch 1/10\n",
      "20/20 [==============================] - 1s - loss: 5935.5361 - val_loss: 4217.4492\n",
      "Epoch 2/10\n",
      "20/20 [==============================] - 0s - loss: 5923.9868 - val_loss: 4186.5010\n",
      "Epoch 3/10\n",
      "20/20 [==============================] - 0s - loss: 5885.2163 - val_loss: 4125.5723\n",
      "Epoch 4/10\n",
      "20/20 [==============================] - 0s - loss: 5813.1709 - val_loss: 4024.9487\n",
      "Epoch 5/10\n",
      "20/20 [==============================] - 0s - loss: 5698.5098 - val_loss: 3875.5259\n",
      "Epoch 6/10\n",
      "20/20 [==============================] - 0s - loss: 5498.8857 - val_loss: 3670.6804\n",
      "Epoch 7/10\n",
      "20/20 [==============================] - 0s - loss: 5225.6553 - val_loss: 3403.7734\n",
      "Epoch 8/10\n",
      "20/20 [==============================] - 0s - loss: 4958.6592 - val_loss: 3068.8364\n",
      "Epoch 9/10\n",
      "20/20 [==============================] - 0s - loss: 4519.2705 - val_loss: 2666.9209\n",
      "Epoch 10/10\n",
      "20/20 [==============================] - 0s - loss: 3929.9771 - val_loss: 2204.8250\n",
      "5/5 [==============================] - 0s\n",
      "Test loss: 2204.82495117\n"
     ]
    }
   ],
   "source": [
    "model = Sequential()\n",
    "model.add(Conv2D(32, kernel_size=(3, 3),\n",
    "                 activation='relu',\n",
    "                 input_shape=X_train.shape[1:]))\n",
    "model.add(Conv2D(64, (3, 3), activation='relu'))\n",
    "model.add(MaxPooling2D(pool_size=(2, 2)))\n",
    "model.add(Dropout(0.25))\n",
    "model.add(Flatten())\n",
    "model.add(Dense(128, activation='relu'))\n",
    "model.add(Dropout(0.5))\n",
    "model.add(Dense(1, activation='relu'))\n",
    "\n",
    "model.compile(loss='mean_squared_error',optimizer='adam')\n",
    "\n",
    "model.fit(X_train, y_train,\n",
    "          batch_size=32,\n",
    "          epochs=10,\n",
    "          verbose=1,\n",
    "          validation_data=(X_test, y_test))\n",
    "score = model.evaluate(X_test, y_test, verbose=1)\n",
    "print('Test loss:', score)\n",
    "\n",
    "#model.compile(loss='mean_squared_error',optimizer='sgd',metrics=['accuracy'])\n",
    "#model.fit(X_train, y_train, batch_size=1, epochs=1000, verbose=1)\n"
   ]
  },
  {
   "cell_type": "code",
   "execution_count": null,
   "metadata": {
    "collapsed": true
   },
   "outputs": [],
   "source": []
  }
 ],
 "metadata": {
  "kernelspec": {
   "display_name": "Python 3",
   "language": "python",
   "name": "python3"
  },
  "language_info": {
   "codemirror_mode": {
    "name": "ipython",
    "version": 3
   },
   "file_extension": ".py",
   "mimetype": "text/x-python",
   "name": "python",
   "nbconvert_exporter": "python",
   "pygments_lexer": "ipython3",
   "version": "3.6.1"
  }
 },
 "nbformat": 4,
 "nbformat_minor": 2
}
